{
  "metadata": {
    "language_info": {
      "codemirror_mode": {
        "name": "python",
        "version": 3
      },
      "file_extension": ".py",
      "mimetype": "text/x-python",
      "name": "python",
      "nbconvert_exporter": "python",
      "pygments_lexer": "ipython3",
      "version": "3.8"
    },
    "kernelspec": {
      "name": "python",
      "display_name": "Python (Pyodide)",
      "language": "python"
    }
  },
  "nbformat_minor": 4,
  "nbformat": 4,
  "cells": [
    {
      "cell_type": "code",
      "source": "Python has built-in string validation methods for basic data. It can check if a string is composed of alphabetical characters, alphanumeric characters, digits, etc.\n\nstr.isalnum()\nThis method checks if all the characters of a string are alphanumeric (a-z, A-Z and 0-9).\n\n>>> print 'ab123'.isalnum()\nTrue\n>>> print 'ab123#'.isalnum()\nFalse\nstr.isalpha()\nThis method checks if all the characters of a string are alphabetical (a-z and A-Z).\n\n>>> print 'abcD'.isalpha()\nTrue\n>>> print 'abcd1'.isalpha()\nFalse\nstr.isdigit()\nThis method checks if all the characters of a string are digits (0-9).\n\n>>> print '1234'.isdigit()\nTrue\n>>> print '123edsd'.isdigit()\nFalse\nstr.islower()\nThis method checks if all the characters of a string are lowercase characters (a-z).\n\n>>> print 'abcd123#'.islower()\nTrue\n>>> print 'Abcd123#'.islower()\nFalse\nstr.isupper()\nThis method checks if all the characters of a string are uppercase characters (A-Z).\n\n>>> print 'ABCD123#'.isupper()\nTrue\n>>> print 'Abcd123#'.isupper()\nFalse\nTask\n\nYou are given a string .\nYour task is to find out if the string  contains: alphanumeric characters, alphabetical characters, digits, lowercase and uppercase characters.\n\nInput Format\n\nA single line containing a string .\n\nConstraints\n\n\nOutput Format\n\nIn the first line, print True if  has any alphanumeric characters. Otherwise, print False.\nIn the second line, print True if  has any alphabetical characters. Otherwise, print False.\nIn the third line, print True if  has any digits. Otherwise, print False.\nIn the fourth line, print True if  has any lowercase characters. Otherwise, print False.\nIn the fifth line, print True if  has any uppercase characters. Otherwise, print False.\n\nSample Input\n\nqA2\nSample Output\n\nTrue\nTrue\nTrue\nTrue\nTrue",
      "metadata": {},
      "execution_count": null,
      "outputs": []
    },
    {
      "cell_type": "code",
      "source": "if __name__ == '__main__':\n    s = input()\n    strLength = len(s)\n    if strLength > 0 and strLength < 1000:\n        for i in range(0, strLength):\n            if s[i].isalnum() == True:\n                print(\"True\")\n                break\n            if i == strLength - 1:\n                print(\"False\")\n        for i in range(0, strLength):\n            if s[i].isalpha() == True:\n                print(\"True\")\n                break\n            if i == strLength - 1:\n                print(\"False\")\n        for i in range(0, strLength):\n            if s[i].isdigit() == True:\n                print(\"True\")\n                break\n            if i == strLength - 1:\n                print(\"False\")\n        for i in range(0, strLength):\n            if s[i].islower() == True:\n                print(\"True\")\n                break\n            if i == strLength - 1:\n                print(\"False\")\n        for i in range(0, strLength):\n            if s[i].isupper() == True:\n                print(\"True\")\n                break\n            if i == strLength - 1:\n                print(\"False\")\n",
      "metadata": {},
      "execution_count": null,
      "outputs": []
    },
    {
      "cell_type": "code",
      "source": "str = input()\nstrLength = len(str)\nFlag1 = False\nFlag2 = False\nFlag3 = False\nFlag4 = False\nFlag5 = False\nif strLength > 0 and strLength < 1000:\n    for i in range(strLength):\n        if str[i].isalnum() == True:\n            Flag1 = True\n        if str[i].isalpha() == True:\n            Flag2 = True\n        if str[i].isdigit() == True:\n            Flag3 = True\n        if str[i].islower() == True:\n            Flag4 = True\n        if str[i].isupper() == True:\n            Flag5 = True\n    else:\n        print(Flag1)\n        print(Flag2)\n        print(Flag3)\n        print(Flag4)\n        print(Flag5)",
      "metadata": {},
      "execution_count": null,
      "outputs": []
    }
  ]
}