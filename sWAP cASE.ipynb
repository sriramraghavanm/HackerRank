{
  "metadata": {
    "language_info": {
      "codemirror_mode": {
        "name": "python",
        "version": 3
      },
      "file_extension": ".py",
      "mimetype": "text/x-python",
      "name": "python",
      "nbconvert_exporter": "python",
      "pygments_lexer": "ipython3",
      "version": "3.8"
    },
    "kernelspec": {
      "name": "python",
      "display_name": "Python (Pyodide)",
      "language": "python"
    }
  },
  "nbformat_minor": 4,
  "nbformat": 4,
  "cells": [
    {
      "cell_type": "code",
      "source": "You are given a string and your task is to swap cases. In other words, convert all lowercase letters to uppercase letters and vice versa.\n\nFor Example:\n\nWww.HackerRank.com → wWW.hACKERrANK.COM\nPythonist 2 → pYTHONIST 2  \nFunction Description\n\nComplete the swap_case function in the editor below.\n\nswap_case has the following parameters:\n\nstring s: the string to modify\nReturns\n\nstring: the modified string\nInput Format\n\nA single line containing a string .\n\nConstraints\n\n\nSample Input 0\n\nHackerRank.com presents \"Pythonist 2\".\nSample Output 0\n\nhACKERrANK.COM PRESENTS \"pYTHONIST 2\".",
      "metadata": {
        "tags": []
      },
      "execution_count": null,
      "outputs": []
    },
    {
      "cell_type": "code",
      "source": "# Using in-built swapcase() function\ndef swap_case(s):\n    str = s.swapcase()\n    return str\n\nstr = input()\nprint(\"String before swapping case is \",str)\nnewStr = swap_case(str)\nprint(\"String after swapping case is \",newStr,end='',flush=True)",
      "metadata": {
        "tags": []
      },
      "execution_count": null,
      "outputs": []
    },
    {
      "cell_type": "code",
      "source": "# Without using swapcase() inbuilt function\ndef swap_case(s):\n    str = \"\"\n    for char in s:\n        if char.isupper():\n            str = str + char.lower()\n        elif char.islower():\n            str = str + char.upper()\n        else:\n            str = str + char\n    return str\n\n# str = input()\n# print(\"String before swapping case is \",str)\n# newStr = swap_case(str)\n# print(\"String after swapping case is \",newStr,end='',flush=True)",
      "metadata": {
        "tags": []
      },
      "execution_count": null,
      "outputs": []
    }
  ]
}