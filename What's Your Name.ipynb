{
  "metadata": {
    "language_info": {
      "codemirror_mode": {
        "name": "python",
        "version": 3
      },
      "file_extension": ".py",
      "mimetype": "text/x-python",
      "name": "python",
      "nbconvert_exporter": "python",
      "pygments_lexer": "ipython3",
      "version": "3.8"
    },
    "kernelspec": {
      "name": "python",
      "display_name": "Python (Pyodide)",
      "language": "python"
    }
  },
  "nbformat_minor": 4,
  "nbformat": 4,
  "cells": [
    {
      "cell_type": "code",
      "source": "You are given the firstname and lastname of a person on two different lines. Your task is to read them and print the following:\n\nHello firstname lastname! You just delved into python.\n\nFunction Description\n\nComplete the print_full_name function in the editor below.\n\nprint_full_name has the following parameters:\n\nstring first: the first name\nstring last: the last name\nPrints\n\nstring: 'Hello firstname lastname! You just delved into python' where firstname and lastname are replaced with first and last.\nInput Format\n\nThe first line contains the first name, and the second line contains the last name.\n\nConstraints\n\nThe length of the first and last names are each ≤ 10.\n\nSample Input 0\n\nRoss\nTaylor\nSample Output 0\n\nHello Ross Taylor! You just delved into python.\nExplanation 0\n\nThe input read by the program is stored as a string data type. A string is a collection of characters.",
      "metadata": {},
      "execution_count": null,
      "outputs": []
    },
    {
      "cell_type": "code",
      "source": "def print_full_name(first, last):\n    str = \"Hello \" + first + \" \" +last + \"! You just delved into python.\"\n    print(str)\n    return str\n\nif __name__ == '__main__':\n    first_name = input()\n    last_name = input()\n    print_full_name(first_name, last_name)",
      "metadata": {},
      "execution_count": null,
      "outputs": []
    }
  ]
}