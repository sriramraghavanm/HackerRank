{
  "metadata": {
    "language_info": {
      "codemirror_mode": {
        "name": "python",
        "version": 3
      },
      "file_extension": ".py",
      "mimetype": "text/x-python",
      "name": "python",
      "nbconvert_exporter": "python",
      "pygments_lexer": "ipython3",
      "version": "3.8"
    },
    "kernelspec": {
      "name": "python",
      "display_name": "Python (Pyodide)",
      "language": "python"
    }
  },
  "nbformat_minor": 4,
  "nbformat": 4,
  "cells": [
    {
      "cell_type": "code",
      "source": "Given an integer, n, print the following values for each integer i from 1 to n:\n\nDecimal\nOctal\nHexadecimal (capitalized)\nBinary\nFunction Description\n\nComplete the print_formatted function in the editor below.\n\nprint_formatted has the following parameters:\n\nint number: the maximum value to print\nPrints\n\nThe four values must be printed on a single line in the order specified above for each i from 1 to number. Each value should be space-padded to match the width of the binary value of number and the values should be separated by a single space.\n\nInput Format\n\nA single integer denoting n.\n\nConstraints\n\n1 <= n <= 99\n\nSample Input\n\n17\nSample Output\n\n    1     1     1     1\n    2     2     2    10\n    3     3     3    11\n    4     4     4   100\n    5     5     5   101\n    6     6     6   110\n    7     7     7   111\n    8    10     8  1000\n    9    11     9  1001\n   10    12     A  1010\n   11    13     B  1011\n   12    14     C  1100\n   13    15     D  1101\n   14    16     E  1110\n   15    17     F  1111\n   16    20    10 10000\n   17    21    11 10001",
      "metadata": {},
      "execution_count": null,
      "outputs": []
    },
    {
      "cell_type": "code",
      "source": "def prepend(s,l):\n    d = l - len(s)\n    return d * \" \" + s\n\ndef print_formatted(number):\n    max_length = len(bin(number)) - 2\n    if number >= 1 and number <= 99:\n        for i in range(1,number + 1):\n            decimal = prepend(str(i), max_length)\n            octal = prepend(oct(i)[2:], max_length)\n            hexadecimal = prepend(hex(i)[2:].upper(), max_length)\n            binary = prepend(bin(i)[2:], max_length)\n            print(decimal + \" \" + octal + \" \" + hexadecimal + \" \" + binary)\n\nif __name__ == '__main__':\n    n = int(input())\n    print_formatted(n)",
      "metadata": {},
      "execution_count": null,
      "outputs": []
    }
  ]
}